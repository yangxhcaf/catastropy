{
 "cells": [
  {
   "cell_type": "code",
   "execution_count": 2,
   "metadata": {},
   "outputs": [],
   "source": [
    "import pandas as pd\n",
    "import numpy as np\n",
    "from scipy.integrate import odeint"
   ]
  },
  {
   "cell_type": "code",
   "execution_count": 176,
   "metadata": {},
   "outputs": [],
   "source": [
    "def f(y,t):\n",
    "    \n",
    "    mu = 1/50\n",
    "    R = 16\n",
    "    gamma = 365/13\n",
    "    beta = R*(mu+gamma)\n",
    "    k = 1000\n",
    "    delta = 2.5e-4\n",
    "    w = 2*delta\n",
    "    \n",
    "    S,I,X = y\n",
    "    \n",
    "    s_prime = mu*(1-X) - beta*S*I - mu*S\n",
    "    \n",
    "    i_prime = beta*S*I - (gamma+mu)*I\n",
    "    \n",
    "    x_prime = k*X*(1-X)*(-w+I + delta*(2*X-1))\n",
    "    \n",
    "    dydt  = [s_prime,i_prime,x_prime]\n",
    "    \n",
    "    return dydt"
   ]
  },
  {
   "cell_type": "code",
   "execution_count": 180,
   "metadata": {},
   "outputs": [],
   "source": [
    "\n",
    "y0 = [0.2,1e-5,0.8]\n",
    "\n",
    "t = np.linspace(0,10,10*10000)\n",
    "\n",
    "\n",
    "sol = odeint(f,y0,t)"
   ]
  },
  {
   "cell_type": "code",
   "execution_count": 181,
   "metadata": {},
   "outputs": [],
   "source": [
    "import matplotlib.pyplot as plt\n",
    "%matplotlib inline"
   ]
  },
  {
   "cell_type": "code",
   "execution_count": 182,
   "metadata": {},
   "outputs": [
    {
     "data": {
      "text/plain": [
       "[<matplotlib.lines.Line2D at 0x11c8b7160>]"
      ]
     },
     "execution_count": 182,
     "metadata": {},
     "output_type": "execute_result"
    },
    {
     "data": {
      "image/png": "[encoded data removed]",
      "text/plain": [
       "<matplotlib.figure.Figure at 0x11c317c18>"
      ]
     },
     "metadata": {},
     "output_type": "display_data"
    }
   ],
   "source": [
    "fig,ax = plt.subplots(nrows = 3)\n",
    "\n",
    "ax[0].plot(t,sol[:,0])\n",
    "ax[1].plot(t,sol[:,1])\n",
    "ax[2].plot(t,sol[:,2])"
   ]
  },
  {
   "cell_type": "code",
   "execution_count": null,
   "metadata": {},
   "outputs": [],
   "source": []
  },
  {
   "cell_type": "code",
   "execution_count": null,
   "metadata": {
    "collapsed": true
   },
   "outputs": [],
   "source": []
  }
 ],
 "metadata": {
  "kernelspec": {
   "display_name": "Python 3",
   "language": "python",
   "name": "python3"
  },
  "language_info": {
   "codemirror_mode": {
    "name": "ipython",
    "version": 3
   },
   "file_extension": ".py",
   "mimetype": "text/x-python",
   "name": "python",
   "nbconvert_exporter": "python",
   "pygments_lexer": "ipython3",
   "version": "3.6.1"
  }
 },
 "nbformat": 4,
 "nbformat_minor": 2
}
