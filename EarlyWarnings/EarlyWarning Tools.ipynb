{
 "cells": [
  {
   "cell_type": "code",
   "execution_count": 2,
   "metadata": {},
   "outputs": [
    {
     "name": "stderr",
     "output_type": "stream",
     "text": [
      "/Users/demetri/anaconda/lib/python3.6/site-packages/statsmodels/compat/pandas.py:56: FutureWarning: The pandas.core.datetools module is deprecated and will be removed in a future version. Please use the pandas.tseries module instead.\n",
      "  from pandas.core import datetools\n"
     ]
    }
   ],
   "source": [
    "import numpy as np\n",
    "import pandas as pd\n",
    "from kernel_regression import *\n",
    "from scipy.optimize import fsolve\n",
    "from scipy.stats import norm, kendalltau\n",
    "from statsmodels.tsa.stattools import acf\n",
    "\n",
    "import matplotlib.pyplot as plt\n",
    "%matplotlib inline"
   ]
  },
  {
   "cell_type": "code",
   "execution_count": 3,
   "metadata": {
    "collapsed": true
   },
   "outputs": [],
   "source": [
    "class ews(object):\n",
    "    \n",
    "    '''\n",
    "    Early Warning Signals class.  Takes in as object time series data (as numpy array or pandas series).\n",
    "    Perform smoothing, obtain residuals from smoothing, apply rolling statistics.\n",
    "    \n",
    "    '''\n",
    "    \n",
    "    \n",
    "    def __init__(self,x):\n",
    "        \n",
    "        if not isinstance(x,(np.ndarray,pd.Series)):\n",
    "            raise ValueError('Data must be numpy ndarray or pandas Series')\n",
    "        \n",
    "        if isinstance(x,np.ndarray):\n",
    "            \n",
    "            if np.isnan(x).any():\n",
    "                raise ValueError('Data contains nulls')\n",
    "            \n",
    "            if not np.issubdtype(x.dtype,np.number):\n",
    "                raise ValueError('Data must be numeric')\n",
    "            \n",
    "            if x.ndim>1:\n",
    "                raise ValueError('Data must be one dimensional')\n",
    "                \n",
    "            y = x\n",
    "            \n",
    "        if isinstance(x,pd.Series):\n",
    "            \n",
    "            if x.isnull().any():\n",
    "                raise ValueError('Data contains nulls')\n",
    "            \n",
    "            if not np.issubdtype(x.dtype,np.number):\n",
    "                raise ValueError('Data must be numeric')\n",
    "                \n",
    "            y = np.array(x)\n",
    "         \n",
    "        \n",
    "        self.size = y.size\n",
    "        self.y = y\n",
    "        self.smoothed = ksmooth_py(y)\n",
    "        self.residual = self.y - self.smoothed\n",
    "        \n",
    "    \n",
    "    def detect_ews(self, stat_func, window_length = 0.5):\n",
    "        \n",
    "        if window_length<1 and window_length>0:\n",
    "            \n",
    "            window = round(window_length*self.size)\n",
    "            \n",
    "        elif window_length>=1:\n",
    "            \n",
    "            if not isinstance(window_length, int):\n",
    "                raise ValueError('window_length must be integer or float between 0 and 1')\n",
    "            \n",
    "            window= window_length\n",
    "            \n",
    "        else:\n",
    "            raise ValueError('window_length must be a positive float')\n",
    "            \n",
    "        if not hasattr(stat_func,'__call__'):\n",
    "            raise ValueError('stat_func must have callable attribute')\n",
    "        \n",
    "        \n",
    "        \n",
    "        Y = pd.Series(self.residual).rolling(window).apply(stat_func)\n",
    "        \n",
    "        return np.array(Y)\n",
    "\n",
    "    \n",
    "    def quick_detect_ews(self,t, window_length = 0.5):\n",
    "        \n",
    "        if not isinstance(t,(np.ndarray,pd.Series)):\n",
    "            raise ValueError('t must be numpy ndarray or pandas Series')\n",
    "        \n",
    "        if np.isnan(t).any():\n",
    "            raise ValueError('t contains nulls')\n",
    "            \n",
    "            \n",
    "        fig, ax = plt.subplots(nrows = 4,ncols = 1, figsize = (8,8), sharex = True)\n",
    "        \n",
    "        \n",
    "        ax[0].plot(t,self.y, color = 'k')\n",
    "        ax[0].plot(t,self.smoothed, color='r', linewidth = 2, label = 'Smoothed Data')\n",
    "        ax[0].set_ylabel('Time Series')\n",
    "        ax[0].legend()\n",
    "        \n",
    "        ax[1].plot(t,self.residual, color = 'k')\n",
    "        ax[1].set_ylabel('Residual', color = 'k')\n",
    "        \n",
    "        std = self.detect(stat_func=np.std, window_length = window_length)\n",
    "        ax[2].plot(t,std, color = 'k')\n",
    "        ax[2].set_ylabel('Variance')\n",
    "        \n",
    "        \n",
    "        ac = self.detect(stat_func=lambda x: acf(x)[1], window_length = window_length)\n",
    "        ax[3].plot(t,ac, color = 'k')\n",
    "        ax[3].set_ylabel('Lag-1 Autocorrelation')\n",
    "        \n",
    "\n",
    "        return ax\n",
    "        \n",
    "        \n",
    "\n",
    "\n",
    " \n",
    "def quant_f(x,bw):\n",
    "    \n",
    "    return  norm(scale = x).ppf(0.75) - 0.25*bw\n",
    "\n",
    "def ksmooth_py(x):\n",
    "    \n",
    "    t = np.arange(1,x.size+1)\n",
    "    t = t.reshape(-1,1)\n",
    "        \n",
    "    bw = int(round(bw_nrd0(t)))\n",
    "    \n",
    "    sd = fsolve(quant_f ,1,bw)\n",
    "    \n",
    "    gamma = 0.5/sd**2\n",
    "    \n",
    "    kr = KernelRegression(gamma = gamma)\n",
    "    \n",
    "    kr.fit(t,x)\n",
    "    \n",
    "    ysmooth = kr.predict(t)\n",
    "    \n",
    "    return ysmooth\n",
    "    \n",
    "    \n",
    "def bw_nrd0(x):\n",
    "\n",
    "    if len(x) < 2:\n",
    "        raise(Exception(\"need at least 2 data points\"))\n",
    "\n",
    "    hi = np.std(x, ddof=1)\n",
    "    q75, q25 = np.percentile(x, [75 ,25])\n",
    "    iqr = q75 - q25\n",
    "    lo = min(hi, iqr/1.34)\n",
    "\n",
    "    if not lo:\n",
    "        if hi:\n",
    "            lo = hi\n",
    "        elif abs(x[0]):\n",
    "            lo = abs(x[0])\n",
    "        else:\n",
    "            lo = 1\n",
    "\n",
    "    return 0.9 * lo *len(x)**-0.2\n",
    "\n"
   ]
  },
  {
   "cell_type": "code",
   "execution_count": 30,
   "metadata": {},
   "outputs": [],
   "source": [
    "df = pd.read_csv('anti-vaccine.csv',parse_dates=['Date']).set_index('Date').resample('D').mean().interpolate()"
   ]
  },
  {
   "cell_type": "code",
   "execution_count": 31,
   "metadata": {},
   "outputs": [],
   "source": [
    "data  = ews(df.Ntweet)\n",
    "df['smooth'] = data.smoothed\n",
    "df['residual'] = data.residual"
   ]
  },
  {
   "cell_type": "code",
   "execution_count": 39,
   "metadata": {},
   "outputs": [],
   "source": [
    "df['SD']= data.detect_ews(stat_func = np.std, window_length= 365)"
   ]
  },
  {
   "cell_type": "code",
   "execution_count": 40,
   "metadata": {},
   "outputs": [
    {
     "data": {
      "text/plain": [
       "<matplotlib.axes._subplots.AxesSubplot at 0x11a668898>"
      ]
     },
     "execution_count": 40,
     "metadata": {},
     "output_type": "execute_result"
    },
    {
     "data": {
      "image/png": "[encoded data removed]",
      "text/plain": [
       "<matplotlib.figure.Figure at 0x11a36ac18>"
      ]
     },
     "metadata": {},
     "output_type": "display_data"
    }
   ],
   "source": [
    "df.SD.plot()"
   ]
  },
  {
   "cell_type": "code",
   "execution_count": null,
   "metadata": {
    "collapsed": true
   },
   "outputs": [],
   "source": []
  }
 ],
 "metadata": {
  "kernelspec": {
   "display_name": "Python 3",
   "language": "python",
   "name": "python3"
  },
  "language_info": {
   "codemirror_mode": {
    "name": "ipython",
    "version": 3
   },
   "file_extension": ".py",
   "mimetype": "text/x-python",
   "name": "python",
   "nbconvert_exporter": "python",
   "pygments_lexer": "ipython3",
   "version": "3.6.1"
  }
 },
 "nbformat": 4,
 "nbformat_minor": 2
}
